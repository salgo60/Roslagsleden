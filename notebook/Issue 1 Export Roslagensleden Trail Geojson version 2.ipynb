{
 "cells": [
  {
   "cell_type": "markdown",
   "id": "0d83b45d-1861-4b37-994a-d6cae7adba86",
   "metadata": {},
   "source": [
    "# Issue 1: Export Roslagsleden Trail Geojson version 2\n",
    "\n",
    "* https://github.com/salgo60/Roslagsleden/issues/1\n",
    "* [this notebook](https://github.com/salgo60/Roslagsleden/blob/main/notebook/Issue%201%20Export%20Roslagen%20Trail%20Geojson.ipynb)\n",
    "\n",
    "## 🧭 Export P625 Point Data for SAT Trail Sections from Wikidata\n",
    "\n",
    "This notebook cell performs the following:\n",
    "\n",
    "1. Runs a SPARQL query to retrieve SAT trail sections (`wd:Q10657105`) with:\n",
    "   - `wdt:P625` coordinate location\n",
    "   - `wdt:P18` image (optional)\n",
    "   - `wdt:P856` official website (optional)\n",
    "   - `wdt:P402` OSM relation ID\n",
    "   - Item label and Wikidata URI\n",
    "\n",
    "2. Creates a GeoJSON file with:\n",
    "   - **Point geometry** from P625\n",
    "   - **Popup info** (name, image, website, links to Wikidata/OSM) in a field called `UmapPop`\n",
    "\n",
    "You can import the result into **uMap** and use `UmapPop` as the popup template field.\n",
    "\n",
    "---\n",
    "\n",
    "### ✅ Python code:\n",
    "\n"
   ]
  },
  {
   "cell_type": "code",
   "execution_count": 2,
   "id": "c69328a4-c5d9-427d-9cab-ec8afaec947b",
   "metadata": {},
   "outputs": [
    {
     "name": "stdout",
     "output_type": "stream",
     "text": [
      "Started: 2025-07-27 19:07\n"
     ]
    }
   ],
   "source": [
    "import time\n",
    "import datetime  \n",
    "start_time = time.time()\n",
    "start_str = datetime.datetime.now().strftime(\"%Y-%m-%d %H:%M\")\n",
    "print(f\"Started: {start_str}\")\n"
   ]
  },
  {
   "cell_type": "code",
   "execution_count": 3,
   "id": "bc844de3-2021-4651-8ba6-e6f0044f0168",
   "metadata": {},
   "outputs": [
    {
     "name": "stdout",
     "output_type": "stream",
     "text": [
      "Fetching SPARQL point data...\n",
      "Found 11 trail sections with P625 coordinates.\n",
      "Building GeoJSON from coordinates...\n",
      "✅ GeoJSON file created: ../geojson/Issue_2_P625_points_2025072719_07_24.geojson\n"
     ]
    }
   ],
   "source": [
    "import requests\n",
    "import json\n",
    "import datetime\n",
    "from shapely.geometry import Point, mapping\n",
    "from geojson import Feature, FeatureCollection\n",
    "\n",
    "# SPARQL query to get SAT trail sections with P625 + metadata\n",
    "sparql_query = \"\"\"\n",
    "SELECT ?item ?itemLabel ?coord ?image ?website ?OSMrel WHERE {\n",
    "  ?item wdt:P361 wd:Q10657105;\n",
    "        wdt:P31 wd:Q2143825.\n",
    "  OPTIONAL { ?item wdt:P625 ?coord. }\n",
    "  OPTIONAL { ?item wdt:P18 ?image. }\n",
    "  OPTIONAL { ?item wdt:P856 ?website. }\n",
    "  OPTIONAL { ?item wdt:P402 ?OSMrel. }\n",
    "  SERVICE wikibase:label { bd:serviceParam wikibase:language \"sv,en\". }\n",
    "}\n",
    "ORDER BY (?itemLabel)\n",
    "\"\"\"\n",
    "\n",
    "# Run SPARQL query\n",
    "def run_sparql(query):\n",
    "    url = \"https://query.wikidata.org/sparql\"\n",
    "    headers = {'Accept': 'application/sparql-results+json'}\n",
    "    r = requests.get(url, params={'query': query}, headers=headers)\n",
    "    data = r.json()\n",
    "    results = []\n",
    "    for row in data[\"results\"][\"bindings\"]:\n",
    "        item_uri = row[\"item\"][\"value\"]\n",
    "        label = row.get(\"itemLabel\", {}).get(\"value\")\n",
    "        coord = row.get(\"coord\", {}).get(\"value\")\n",
    "        image = row.get(\"image\", {}).get(\"value\")\n",
    "        website = row.get(\"website\", {}).get(\"value\")\n",
    "        rel_id = row.get(\"OSMrel\", {}).get(\"value\")\n",
    "        if coord:\n",
    "            lat, lon = map(float, coord.replace(\"Point(\", \"\").replace(\")\", \"\").split())\n",
    "            results.append({\n",
    "                \"label\": label,\n",
    "                \"coord\": (lon, lat),  # GeoJSON uses (lon, lat)\n",
    "                \"image\": image,\n",
    "                \"website\": website,\n",
    "                \"osm_rel\": rel_id,\n",
    "                \"wikidata\": item_uri\n",
    "            })\n",
    "    return results\n",
    "\n",
    "# Build GeoJSON with point geometry and rich popup\n",
    "def build_geojson_points(sections):\n",
    "    features = []\n",
    "    for s in sections:\n",
    "        props = {\n",
    "            \"name\": s[\"label\"],\n",
    "            \"wikidata\": s[\"wikidata\"],\n",
    "            \"osm_relation\": f\"https://www.openstreetmap.org/relation/{s['osm_rel']}\" if s.get(\"osm_rel\") else None,\n",
    "            \"website\": s.get(\"website\"),\n",
    "            \"image\": s.get(\"image\")\n",
    "        }\n",
    "\n",
    "        # Rich popup for uMap\n",
    "        umap_html = f\"<b>{s['label']}</b><br>\"\n",
    "        if s.get(\"image\"):\n",
    "            umap_html += f'<img src=\"{s[\"image\"]}\" width=\"250\"><br>'\n",
    "        if s.get(\"website\"):\n",
    "            umap_html += f'<a href=\"{s[\"website\"]}\" target=\"_blank\">🌍 Website</a><br>'\n",
    "        if s.get(\"osm_rel\"):\n",
    "            umap_html += f'<a href=\"https://www.openstreetmap.org/relation/{s[\"osm_rel\"]}\" target=\"_blank\">🗺 OSM Relation</a><br>'\n",
    "        umap_html += f'<a href=\"{s[\"wikidata\"]}\" target=\"_blank\">🔗 Wikidata</a>'\n",
    "\n",
    "        props[\"UmapPop\"] = umap_html\n",
    "\n",
    "        feature = Feature(geometry=mapping(Point(s[\"coord\"])), properties=props)\n",
    "        features.append(feature)\n",
    "    return FeatureCollection(features)\n",
    "\n",
    "# Run and export\n",
    "if __name__ == \"__main__\":\n",
    "    print(\"Fetching SPARQL point data...\")\n",
    "    section_data = run_sparql(sparql_query)\n",
    "    print(f\"Found {len(section_data)} trail sections with P625 coordinates.\")\n",
    "\n",
    "    print(\"Building GeoJSON from coordinates...\")\n",
    "    geojson = build_geojson_points(section_data)\n",
    "\n",
    "    timestamp = datetime.datetime.now().strftime(\"%Y%m%d%H_%M_%S\")\n",
    "    output_path = f\"../geojson/Issue_2_P625_points_{timestamp}.geojson\"\n",
    "\n",
    "    with open(output_path, \"w\", encoding=\"utf-8\") as f:\n",
    "        json.dump(geojson, f, ensure_ascii=False, indent=2)\n",
    "    print(f\"✅ GeoJSON file created: {output_path}\")\n"
   ]
  },
  {
   "cell_type": "code",
   "execution_count": 4,
   "id": "18dcaeca-9090-412f-8881-17a0f536f752",
   "metadata": {},
   "outputs": [
    {
     "name": "stdout",
     "output_type": "stream",
     "text": [
      "GeoJSON saved to ../geojson/Issue_2_P625_points_2025072719_07_24.geojson\n",
      "Finished in 1.09 seconds.\n"
     ]
    }
   ],
   "source": [
    "    end_time = time.time()\n",
    "    duration = end_time - start_time\n",
    "    print(f\"GeoJSON saved to {output_path}\")\n",
    "    print(f\"Finished in {duration:.2f} seconds.\")\n"
   ]
  },
  {
   "cell_type": "code",
   "execution_count": null,
   "id": "e439cbe5-e5bd-44f4-bcca-3b8d17c932cd",
   "metadata": {},
   "outputs": [],
   "source": []
  }
 ],
 "metadata": {
  "kernelspec": {
   "display_name": "Python 3 (ipykernel)",
   "language": "python",
   "name": "python3"
  },
  "language_info": {
   "codemirror_mode": {
    "name": "ipython",
    "version": 3
   },
   "file_extension": ".py",
   "mimetype": "text/x-python",
   "name": "python",
   "nbconvert_exporter": "python",
   "pygments_lexer": "ipython3",
   "version": "3.12.2"
  }
 },
 "nbformat": 4,
 "nbformat_minor": 5
}
